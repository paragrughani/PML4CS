{
 "cells": [
  {
   "cell_type": "code",
   "execution_count": null,
   "metadata": {},
   "outputs": [],
   "source": [
    "#import numpy library\n",
    "import numpy as np"
   ]
  },
  {
   "cell_type": "code",
   "execution_count": null,
   "metadata": {},
   "outputs": [],
   "source": [
    "#create two matrices M1 (2x3) and M2 (3x2) and print them\n",
    "\n",
    "##Write your code below this##\n",
    "\n",
    m1 = np.array([[1,2,3],[2,3,4]])
    print(m1)
    print(m1.shape)
    m2 = np.array([[1,2],[2,3],[3,4]])
    print(m2)
    print(m2.shape)
   "\n",
    "##Write your code above this##\n"
   ]
  },
  {
   "cell_type": "code",
   "execution_count": null,
   "metadata": {},
   "outputs": [],
   "source": [
    "#Multiply (Matrix Multiplication) M1 and M2 and store the results in M3, print M3\n",
    "\n",
    "##Write your code below this##\n",
    "\n",
    m3 = np.matmul(m1,m2)
    print("Multiplication of two matrix:",m3)
    print(m3.shape)
    "\n",
    "##Write your code above this##"
   ]
  },
  {
   "cell_type": "code",
   "execution_count": null,
   "metadata": {},
   "outputs": [],
   "source": [
    "#Create a column vector of the size 6x1 and convert it to a matrix of the size 3x2\n",
    "\n",
    "##Write your code below this##\n",
    "\n",
    k1 = np.array([[1],[2],[3],[4],[5],[6]])
    print("k1:",k1)
    k2 = k1.reshape(3,2)
    print("\nk2:",k2)
    "\n",
    "##Write your code above this##"
   ]
  },
  {
   "cell_type": "code",
   "execution_count": null,
   "metadata": {},
   "outputs": [],
   "source": [
    "#create a random matrix of size 2x3 and multiply it with an identity matrix, print the results you get?\n",
    "\n",
    "##Write your code below this##\n",
    "\n",
    R = np.random.rand(2,3)
    print("random matrix:\n",R)
    S = np.identity(3)
    print("Identity matrix:\n",S)
    T = np.matmul(R,S)
    print("Multiplication:\n",T)
    "\n",
    "##Write your code above this##"
   ]
  }
 ],
 "metadata": {
  "kernelspec": {
   "display_name": "Python 3",
   "language": "python",
   "name": "python3"
  },
  "language_info": {
   "codemirror_mode": {
    "name": "ipython",
    "version": 3
   },
   "file_extension": ".py",
   "mimetype": "text/x-python",
   "name": "python",
   "nbconvert_exporter": "python",
   "pygments_lexer": "ipython3",
   "version": "3.7.4"
  }
 },
 "nbformat": 4,
 "nbformat_minor": 2
}
